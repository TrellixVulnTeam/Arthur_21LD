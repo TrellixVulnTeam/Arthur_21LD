{
 "cells": [
  {
   "cell_type": "markdown",
   "id": "e4cbb8d1",
   "metadata": {},
   "source": [
    "# Arthur data file"
   ]
  },
  {
   "cell_type": "markdown",
   "id": "7cab6099",
   "metadata": {},
   "source": [
    "Les données se présentent en la forme de dictionnaire de dictionnaires. **Toutes les dimensions sont exprimées en mm.** Chaque dictionnaire contient un champ de texte 'info' où sont indiquées les informations nécessaires à la bonne compréhension du dictionnaire.\n",
    "\n",
    "Stucture de la base de données de l'identité d'Arthur et de ses frères :\n",
    "1. environnement\n",
    "\n",
    "Contient la liste des noms des robots\n",
    "\n",
    "2. données physiques\n",
    "    - identité et caractéristiques\n",
    "    - dimensions\n",
    "    - positionnement des éléments (capteurs, bras)\n",
    "\n",
    "Les positions des différents éléments sont définies par rapport au centre du robot (origine O). Coordonnées x, y, z telles que :\n",
    "\n",
    "O est le point centré sur l'axe de symétrie du robot, au milieu (équidistant de l'avant et de l'arrière du robot) et sur le plateau du robot\n",
    "\n",
    "axe des X = axe latéral (largeur) en regardant l'avant du robot\n",
    "\n",
    "axe des Y = axe de symétrie du robot, orientation vers l'avant du robot\n",
    "\n",
    "axe des Z = axe vertical\n",
    "\n",
    "Elles sont contenues dans le champ \"position\" de chaque élément. Certaines positions peuvent être flottantes (la caméra et le mini-lidar sont montées sur le bras robotisé).\n",
    "\n",
    "3. liste des éléments\n",
    "    - alimentation\n",
    "    - moteurs\n",
    "    - radio\n",
    "    - lidar\n",
    "    - bras robotisé\n",
    "    - caméra\n",
    "    - boussole\n",
    "    - mini-lidar\n",
    "    - etc."
   ]
  },
  {
   "cell_type": "markdown",
   "id": "89e26997",
   "metadata": {},
   "source": [
    "# Environnement"
   ]
  },
  {
   "cell_type": "code",
   "execution_count": 3,
   "id": "3a01aa1f",
   "metadata": {},
   "outputs": [],
   "source": [
    "environment = {\n",
    "    'robotNames' : ['Daddy','Arthur'],\n",
    "    'info' : 'entire brotherhood including Daddy'\n",
    "}"
   ]
  },
  {
   "cell_type": "markdown",
   "id": "5d02ae9a",
   "metadata": {},
   "source": [
    "# Caractéristiques générales"
   ]
  },
  {
   "cell_type": "code",
   "execution_count": 4,
   "id": "6085b97c",
   "metadata": {},
   "outputs": [],
   "source": [
    "ID = {\n",
    "    'name' : 'Arthur',\n",
    "    'hardwareList' : ['main','motor','radio','wifi','compass','lidar','miniLidar','roboticArm','camera'],\n",
    "    'info' : ''\n",
    "}"
   ]
  },
  {
   "cell_type": "markdown",
   "id": "f7c5ad80",
   "metadata": {},
   "source": [
    "# Dimensions et origine"
   ]
  },
  {
   "cell_type": "code",
   "execution_count": 5,
   "id": "2e78172d",
   "metadata": {},
   "outputs": [],
   "source": [
    "dimensions = {\n",
    "    'width' : 320, # mm including wheels\n",
    "    'length' : 440, # mm including wheels\n",
    "    'heigth' : 150, # mm, heigth to robot base\n",
    "    'origin' : [160,220,150], # mm\n",
    "    'wheelDiameter' : 125, # mm\n",
    "    'info' : 'mm , including wheels, heigth to robot table'\n",
    "}"
   ]
  },
  {
   "cell_type": "code",
   "execution_count": 6,
   "id": "6090416f",
   "metadata": {},
   "outputs": [
    {
     "data": {
      "text/plain": [
       "(150, 220)"
      ]
     },
     "execution_count": 6,
     "metadata": {},
     "output_type": "execute_result"
    }
   ],
   "source": [
    "dimensions['heigth'], dimensions['origin'][1]"
   ]
  },
  {
   "cell_type": "markdown",
   "id": "8ec2d92b",
   "metadata": {},
   "source": [
    "# Alimentation"
   ]
  },
  {
   "cell_type": "code",
   "execution_count": 7,
   "id": "68b1065a",
   "metadata": {},
   "outputs": [],
   "source": [
    "powerSupply = {\n",
    "    'batteryType' : 'lead',\n",
    "    'numberOfBatteries' : 1,\n",
    "    'batteryVoltage' : 6, # V\n",
    "    'batteryPower' : 10, # Ah\n",
    "    'cardType' : 'strompi 3',\n",
    "    'info' : 'Voltage in V, Power in Ah'\n",
    "}"
   ]
  },
  {
   "cell_type": "markdown",
   "id": "7f5d52ec",
   "metadata": {},
   "source": [
    "# Moteurs"
   ]
  },
  {
   "cell_type": "code",
   "execution_count": 8,
   "id": "df2c1118",
   "metadata": {},
   "outputs": [
    {
     "data": {
      "text/plain": [
       "0.873"
      ]
     },
     "execution_count": 8,
     "metadata": {},
     "output_type": "execute_result"
    }
   ],
   "source": [
    "# utilitaire de calcul de la vitesse maximale en m/s\n",
    "motorSpeed = 10000 # t/min\n",
    "reduction = 1/75\n",
    "wheelDiameter = 12.5/100 # meters\n",
    "maxSpeed = motorSpeed*reduction/60*3.14159*wheelDiameter # m/s\n",
    "round(maxSpeed,3)"
   ]
  },
  {
   "cell_type": "code",
   "execution_count": 9,
   "id": "774bca20",
   "metadata": {},
   "outputs": [],
   "source": [
    "motors = {\n",
    "    'numberOfMotors' : 6, # max rotation 10.000 rpm, reduction 1:75\n",
    "    'motorTorn' : 8.8, # kg.cm\n",
    "    'maxSpeed' : 0.873, # m/s\n",
    "    'dT' : 0.08, # sec, incremental time step for acceleration and deceleration\n",
    "    'info' : 'Torn in kg.cm, maxSpeed in m/s, dT in sec incremental time step for acceleration'\n",
    "}"
   ]
  },
  {
   "cell_type": "markdown",
   "id": "7ec143d8",
   "metadata": {},
   "source": [
    "# Radio"
   ]
  },
  {
   "cell_type": "code",
   "execution_count": 10,
   "id": "2621eabd",
   "metadata": {},
   "outputs": [],
   "source": [
    "radio = {\n",
    "    'info' : ''\n",
    "}"
   ]
  },
  {
   "cell_type": "markdown",
   "id": "25468788",
   "metadata": {},
   "source": [
    "# Lidar"
   ]
  },
  {
   "cell_type": "code",
   "execution_count": 11,
   "id": "2e3a3cd3",
   "metadata": {},
   "outputs": [],
   "source": [
    "lidar = {\n",
    "    'type' : 'YLidarX2',\n",
    "    'position' : [0, 170, 170],\n",
    "    'attitude' : [0, 190, 0], # (degrees) pitch, roll and yaw (X, Y, Z)\n",
    "    # pitch > 0 = lidar looking upwards\n",
    "    # roll > 0 = lidar left hand side up, right hand side down (clockwise order)\n",
    "    # yaw  = robot north - lidar north\n",
    "    'lidar_kwargs' : {\n",
    "        # hyper parameters : vine grid description and calculation precision\n",
    "        'bin_size' : 10, # cm, represents the precision for object grouping\n",
    "        'expected_width' : 200, # cm, the space between two rows of vines\n",
    "        'expected_distance' : 80, # cm, the space between to neighbor vines within each row\n",
    "        #other parameters\n",
    "        'suppress_obj_distance' : 10000, # mm, objects exceeding this distance are deleted from data\n",
    "        # the following distances and sizes are used to filter objects\n",
    "        'max_object_size' : 150,  # eliminate too big (mm)\n",
    "        'min_object_size' : 10, # eliminate too tiny (mm)\n",
    "        'min_object_distance' : 200, # eliminate too close (mm)\n",
    "        'max_object_distance' : 7000, # eliminate too far (mm)\n",
    "        # the following parameters are used to filter objects by density\n",
    "        'max_nb_obj' : 3, #maximum allowed nb of objects (including self)\n",
    "        'nbr_range' : 200 # within this distance (mm)\n",
    "        },\n",
    "    'info' : 'lidar north is the direction (measured clockwise from robot north) of a 0 measured lidar angle'\n",
    "}"
   ]
  },
  {
   "cell_type": "markdown",
   "id": "1f1b8302",
   "metadata": {},
   "source": [
    "# Bras robotisé"
   ]
  },
  {
   "cell_type": "code",
   "execution_count": 12,
   "id": "af0fa986",
   "metadata": {},
   "outputs": [],
   "source": [
    "roboticArm = {\n",
    "    'type' : 'LynxMotion',\n",
    "    'SPosition' : [0, 120, 60], # shoulder position mm (including heigth of arm base)\n",
    "    'dSE' : 108, # shoulder to elbow distance mm\n",
    "    'dEW' : 98, # elbow to wrist distance mm\n",
    "    'dWMa' : 28, # clamp heigth mm\n",
    "    'dWMd' : 158, # clamp length mm\n",
    "    'correctionAngles' : [2, 8, -11, -8, 8, 0], # degrees, to take into account servo precision\n",
    "    'info' : 'mm, S shoulder, E elbow, W wrist, Ma clamp heigth, Mb clamp length'\n",
    "}"
   ]
  },
  {
   "cell_type": "markdown",
   "id": "3820574a",
   "metadata": {},
   "source": [
    "# Caméra"
   ]
  },
  {
   "cell_type": "code",
   "execution_count": 13,
   "id": "e4fc2130",
   "metadata": {},
   "outputs": [],
   "source": [
    "camera = {\n",
    "    'info' : 'position on robotic arm wrist'\n",
    "}"
   ]
  },
  {
   "cell_type": "markdown",
   "id": "1d5f903c",
   "metadata": {},
   "source": [
    "# Boussole"
   ]
  },
  {
   "cell_type": "markdown",
   "id": "20922f12",
   "metadata": {},
   "source": [
    "Convention adoptée pour passer d'un angle à un autre : angle réel du robot = angle mesuré du compas + correction.\n",
    "\n",
    "Correction cap (yaw) = nord robot - nord boussole (cap dans le sens des aiguilles d'une montre comme une boussole)\n",
    "\n",
    "Correction inclinaison (pitch) = inclinaison robot - inclinaison boussole (inclinaison positive quand on pointe vers le haut)\n",
    "\n",
    "Correction roulis (roll) = roulis robot - roulis boussole\n",
    "\n",
    "Par exemple, si l'axe de la bousole est 5° à droite de l'axe du robot, soit un nord boussole de +5°, la correction est de -5°. Ainsi, si la boussole indique un cap de 45°, le cap du robot est de 40°."
   ]
  },
  {
   "cell_type": "code",
   "execution_count": 14,
   "id": "99e50354",
   "metadata": {},
   "outputs": [],
   "source": [
    "compass = {\n",
    "    'type' : 'CMPS14', # circuit Bosch BNO080\n",
    "    'attitude' : [0, 85, 0], # (degrees) pitch, roll and yaw (X, Y, Z)\n",
    "    # pitch > 0 = compass looking upwards\n",
    "    # roll > 0 = compass left hand side up, right hand side down (clockwise order)\n",
    "    # yaw  = robot north - compass north\n",
    "    'info' : 'attitude = pitch, roll, yaw. Use formula : robot angle = compass angle + pitch/roll/yaw'\n",
    "}"
   ]
  },
  {
   "cell_type": "markdown",
   "id": "c8ff4884",
   "metadata": {},
   "source": [
    "# Mini-lidar"
   ]
  },
  {
   "cell_type": "code",
   "execution_count": 15,
   "id": "97d4b6e5",
   "metadata": {},
   "outputs": [],
   "source": [
    "miniLidar = {\n",
    "    'info' : 'position on robotic arm wrist'\n",
    "}"
   ]
  },
  {
   "cell_type": "markdown",
   "id": "497aaed0",
   "metadata": {},
   "source": [
    "# Code"
   ]
  },
  {
   "cell_type": "code",
   "execution_count": 16,
   "id": "e5d224f0",
   "metadata": {},
   "outputs": [],
   "source": [
    "robotID = {\n",
    "    'ID' : ID,\n",
    "    'dimensions' : dimensions\n",
    "}"
   ]
  },
  {
   "cell_type": "code",
   "execution_count": 17,
   "id": "748dd3e5",
   "metadata": {},
   "outputs": [
    {
     "data": {
      "text/plain": [
       "'Arthur'"
      ]
     },
     "execution_count": 17,
     "metadata": {},
     "output_type": "execute_result"
    }
   ],
   "source": [
    "robotID['ID']['name']"
   ]
  },
  {
   "cell_type": "raw",
   "id": "917b131b",
   "metadata": {},
   "source": [
    "import json\n",
    "\n",
    "# write\n",
    "with open('robotID.json', 'w') as jsonFile:\n",
    "    json.dump(robotID, jsonFile)"
   ]
  },
  {
   "cell_type": "raw",
   "id": "b071f6d5",
   "metadata": {},
   "source": [
    "# read\n",
    "with open('robotID.json') as jsonFile:\n",
    "    data = json.load(jsonFile)"
   ]
  },
  {
   "cell_type": "raw",
   "id": "f9bbec73",
   "metadata": {},
   "source": [
    "print(data)"
   ]
  },
  {
   "cell_type": "raw",
   "id": "5f9f0490",
   "metadata": {},
   "source": [
    "# add data\n",
    "with open('robotID.json','r+') as jsonFile:\n",
    "    data = json.load(jsonFile)\n",
    "data.update({'powerSupply': powerSupply})\n",
    "\n",
    "with open('robotID.json','r+') as jsonFile:\n",
    "    json.dump(data, jsonFile)"
   ]
  },
  {
   "cell_type": "raw",
   "id": "82bb20a5",
   "metadata": {},
   "source": [
    "with open('robotID.json') as jsonFile:\n",
    "    data = json.load(jsonFile)\n",
    "print(data)"
   ]
  },
  {
   "cell_type": "code",
   "execution_count": 18,
   "id": "28c29b9c",
   "metadata": {},
   "outputs": [],
   "source": [
    "# full json creation\n",
    "import json\n",
    "\n",
    "robotID = {\n",
    "    'environment' : environment,\n",
    "    'ID' : ID,\n",
    "    'dimensions' : dimensions,\n",
    "    'powerSupply' : powerSupply,\n",
    "    'motors' : motors,    \n",
    "    'radio' : radio,\n",
    "    'lidar' : lidar,\n",
    "    'roboticArm' : roboticArm,\n",
    "    'camera' : camera,\n",
    "    'compass' : compass,\n",
    "    'miniLidar' : miniLidar\n",
    "}\n",
    "with open('robotID.json', 'w') as jsonFile:\n",
    "    json.dump(robotID, jsonFile)"
   ]
  },
  {
   "cell_type": "code",
   "execution_count": 19,
   "id": "ebf6a749",
   "metadata": {},
   "outputs": [
    {
     "data": {
      "text/plain": [
       "11"
      ]
     },
     "execution_count": 19,
     "metadata": {},
     "output_type": "execute_result"
    }
   ],
   "source": [
    "len(robotID)"
   ]
  },
  {
   "cell_type": "code",
   "execution_count": 20,
   "id": "f5e3b107",
   "metadata": {},
   "outputs": [
    {
     "data": {
      "text/plain": [
       "{'type': 'LynxMotion',\n",
       " 'SPosition': [0, 120, 60],\n",
       " 'dSE': 108,\n",
       " 'dEW': 98,\n",
       " 'dWMa': 28,\n",
       " 'dWMd': 158,\n",
       " 'correctionAngles': [2, 8, -11, -8, 8, 0],\n",
       " 'info': 'mm, S shoulder, E elbow, W wrist, Ma clamp heigth, Mb clamp length'}"
      ]
     },
     "execution_count": 20,
     "metadata": {},
     "output_type": "execute_result"
    }
   ],
   "source": [
    "roboticArm"
   ]
  },
  {
   "cell_type": "code",
   "execution_count": null,
   "id": "5fbe9a25",
   "metadata": {},
   "outputs": [],
   "source": []
  }
 ],
 "metadata": {
  "kernelspec": {
   "display_name": "Python 3 (ipykernel)",
   "language": "python",
   "name": "python3"
  },
  "language_info": {
   "codemirror_mode": {
    "name": "ipython",
    "version": 3
   },
   "file_extension": ".py",
   "mimetype": "text/x-python",
   "name": "python",
   "nbconvert_exporter": "python",
   "pygments_lexer": "ipython3",
   "version": "3.9.2"
  },
  "toc": {
   "base_numbering": 1,
   "nav_menu": {},
   "number_sections": true,
   "sideBar": true,
   "skip_h1_title": false,
   "title_cell": "Table of Contents",
   "title_sidebar": "Contents",
   "toc_cell": false,
   "toc_position": {},
   "toc_section_display": true,
   "toc_window_display": false
  }
 },
 "nbformat": 4,
 "nbformat_minor": 5
}
